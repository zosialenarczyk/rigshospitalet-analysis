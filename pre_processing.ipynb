{
 "cells": [
  {
   "cell_type": "code",
   "execution_count": null,
   "metadata": {},
   "outputs": [],
   "source": [
    "import pandas as pd\n",
    "import numpy as np\n",
    "\n",
    "from utils import column_name_mapping"
   ]
  },
  {
   "cell_type": "code",
   "execution_count": 2,
   "metadata": {},
   "outputs": [
    {
     "name": "stderr",
     "output_type": "stream",
     "text": [
      "C:\\Users\\balda\\AppData\\Local\\Temp\\ipykernel_6556\\4698354.py:1: DtypeWarning: Columns (9,13,22) have mixed types. Specify dtype option on import or set low_memory=False.\n",
      "  df = pd.read_csv('data/Case Rigshospitalet.csv')\n"
     ]
    }
   ],
   "source": [
    "df = pd.read_csv('data/Case Rigshospitalet.csv')"
   ]
  },
  {
   "cell_type": "code",
   "execution_count": 3,
   "metadata": {},
   "outputs": [
    {
     "data": {
      "text/plain": [
       "Index(['Patient ID', 'Patientkontakt ID',\n",
       "       'Patient alder på kontaktstart tidspunkt', 'Kontakt startdato',\n",
       "       'Kontakt slutdato', 'Kontakttype', 'Indlæggelsesmåde',\n",
       "       'Patientkontakttype', 'Aktionsdiagnosekode', 'Bidiagnosekode',\n",
       "       'Behandlingsansvarlig Afdeling', 'Kontakt varighed (timer)',\n",
       "       'Procedure-kode', 'Procedure-tillægskoder', 'Procedure udført',\n",
       "       'Behandlingskontakt ID', 'Besøgstype', 'Patient køn',\n",
       "       'Patient civilstand', 'Patient oprettet på Min SP (J/N)',\n",
       "       'Patient land', 'Patient region', 'Patient postnummer',\n",
       "       'Patient kommune'],\n",
       "      dtype='object')"
      ]
     },
     "execution_count": 3,
     "metadata": {},
     "output_type": "execute_result"
    }
   ],
   "source": [
    "df.columns"
   ]
  },
  {
   "cell_type": "code",
   "execution_count": 4,
   "metadata": {},
   "outputs": [],
   "source": [
    "# renaming columns to english\n",
    "df = df.rename(columns=column_name_mapping)"
   ]
  },
  {
   "cell_type": "code",
   "execution_count": 5,
   "metadata": {},
   "outputs": [
    {
     "data": {
      "text/plain": [
       "Index(['patientID', 'patientContactID', 'patientAgeAtContactStart',\n",
       "       'contactStartDate', 'contactEndDate', 'contactType',\n",
       "       'appointmentUrgency', 'patientContactType', 'primaryDiagnosisCode',\n",
       "       'secondaryDiagnosisCode', 'responsibleDepartment',\n",
       "       'contactDurationHours', 'procedureCode', 'procedureSupplementaryCodes',\n",
       "       'procedurePerformed', 'treatmentContactID', 'visitType',\n",
       "       'patientGender', 'patientMaritalStatus', 'patientRegisteredInMySP',\n",
       "       'patientCountry', 'patientRegion', 'patientPostalCode',\n",
       "       'patientMunicipality'],\n",
       "      dtype='object')"
      ]
     },
     "execution_count": 5,
     "metadata": {},
     "output_type": "execute_result"
    }
   ],
   "source": [
    "df.columns"
   ]
  },
  {
   "cell_type": "code",
   "execution_count": 6,
   "metadata": {},
   "outputs": [],
   "source": [
    "# procedureSupplementaryCodes and visitType have to many missing values\n",
    "# rest does not seem useful (at least for now)\n",
    "drop_columns = ['responsibleDepartment', 'secondaryDiagnosisCode', 'procedureSupplementaryCodes', \n",
    "                'visitType', 'patientRegisteredInMySP', 'patientCountry', 'patientRegion',\n",
    "                'patientPostalCode', 'patientMunicipality','patientMaritalStatus','procedurePerformed',\n",
    "                'contactDurationHours']"
   ]
  },
  {
   "cell_type": "code",
   "execution_count": 7,
   "metadata": {},
   "outputs": [],
   "source": [
    "# filtering out missing patientID (46 cases) and droping redundant columns\n",
    "df_cleaned = df.copy()\n",
    "df_cleaned = df_cleaned[~df_cleaned['patientID'].isnull()].drop(columns=drop_columns)"
   ]
  },
  {
   "cell_type": "code",
   "execution_count": 8,
   "metadata": {},
   "outputs": [
    {
     "data": {
      "text/plain": [
       "Index(['patientID', 'patientContactID', 'patientAgeAtContactStart',\n",
       "       'contactStartDate', 'contactEndDate', 'contactType',\n",
       "       'appointmentUrgency', 'patientContactType', 'primaryDiagnosisCode',\n",
       "       'procedureCode', 'treatmentContactID', 'patientGender'],\n",
       "      dtype='object')"
      ]
     },
     "execution_count": 8,
     "metadata": {},
     "output_type": "execute_result"
    }
   ],
   "source": [
    "df_cleaned.columns"
   ]
  },
  {
   "cell_type": "code",
   "execution_count": 9,
   "metadata": {},
   "outputs": [],
   "source": [
    "# converting to datetime\n",
    "df_cleaned['contactStartDate'] = df_cleaned['contactStartDate'].str.replace(',', '.')\n",
    "df_cleaned['contactEndDate'] = df_cleaned['contactEndDate'].str.replace(',', '.')\n",
    "\n",
    "df_cleaned['contactStartDate'] = pd.to_datetime(df_cleaned['contactStartDate'])\n",
    "df_cleaned['contactEndDate'] = pd.to_datetime(df_cleaned['contactEndDate'])\n",
    "\n",
    "df_cleaned['contactDurationMin'] = (df_cleaned['contactEndDate'] - df_cleaned['contactStartDate']).dt.total_seconds() / 60"
   ]
  },
  {
   "cell_type": "code",
   "execution_count": 10,
   "metadata": {},
   "outputs": [],
   "source": [
    "# few patient level columns at this stage (passed later to df_patient)\n",
    "df_cleaned['numVisits'] = df_cleaned.groupby('patientID')['patientContactID'].transform('nunique')\n",
    "df_cleaned['numProcedures'] = df_cleaned.groupby('patientID')['procedureCode'].transform('nunique')\n",
    "df_cleaned['numContacts'] = df_cleaned.groupby('patientID')['treatmentContactID'].transform('nunique')"
   ]
  },
  {
   "cell_type": "code",
   "execution_count": 11,
   "metadata": {},
   "outputs": [
    {
     "name": "stdout",
     "output_type": "stream",
     "text": [
      "Num of rows/appointments after dedup:  1821183\n"
     ]
    },
    {
     "data": {
      "text/html": [
       "<div>\n",
       "<style scoped>\n",
       "    .dataframe tbody tr th:only-of-type {\n",
       "        vertical-align: middle;\n",
       "    }\n",
       "\n",
       "    .dataframe tbody tr th {\n",
       "        vertical-align: top;\n",
       "    }\n",
       "\n",
       "    .dataframe thead th {\n",
       "        text-align: right;\n",
       "    }\n",
       "</style>\n",
       "<table border=\"1\" class=\"dataframe\">\n",
       "  <thead>\n",
       "    <tr style=\"text-align: right;\">\n",
       "      <th></th>\n",
       "      <th>patientID</th>\n",
       "      <th>patientContactID</th>\n",
       "      <th>patientAgeAtContactStart</th>\n",
       "      <th>contactStartDate</th>\n",
       "      <th>contactEndDate</th>\n",
       "      <th>contactType</th>\n",
       "      <th>appointmentUrgency</th>\n",
       "      <th>patientContactType</th>\n",
       "      <th>primaryDiagnosisCode</th>\n",
       "      <th>procedureCode</th>\n",
       "      <th>treatmentContactID</th>\n",
       "      <th>patientGender</th>\n",
       "      <th>contactDurationMin</th>\n",
       "      <th>numVisits</th>\n",
       "      <th>numProcedures</th>\n",
       "      <th>numContacts</th>\n",
       "    </tr>\n",
       "  </thead>\n",
       "  <tbody>\n",
       "    <tr>\n",
       "      <th>0</th>\n",
       "      <td>Z4115614</td>\n",
       "      <td>1301023075465</td>\n",
       "      <td>0</td>\n",
       "      <td>2023-01-13 12:32:00</td>\n",
       "      <td>2023-01-13 13:02:00</td>\n",
       "      <td>Fysisk fremmøde</td>\n",
       "      <td>Planlagt</td>\n",
       "      <td>2 Ambulant</td>\n",
       "      <td>DZ001</td>\n",
       "      <td>ZZ0151</td>\n",
       "      <td>176.794.528</td>\n",
       "      <td>Mand</td>\n",
       "      <td>30.0</td>\n",
       "      <td>6</td>\n",
       "      <td>6</td>\n",
       "      <td>6</td>\n",
       "    </tr>\n",
       "    <tr>\n",
       "      <th>1</th>\n",
       "      <td>Z4115614</td>\n",
       "      <td>1301023121831</td>\n",
       "      <td>0</td>\n",
       "      <td>2023-01-15 13:27:00</td>\n",
       "      <td>2023-01-15 13:57:00</td>\n",
       "      <td>Fysisk fremmøde</td>\n",
       "      <td>Planlagt</td>\n",
       "      <td>2 Ambulant</td>\n",
       "      <td>DZ001</td>\n",
       "      <td>ZZ0151</td>\n",
       "      <td>177.035.032</td>\n",
       "      <td>Mand</td>\n",
       "      <td>30.0</td>\n",
       "      <td>6</td>\n",
       "      <td>6</td>\n",
       "      <td>6</td>\n",
       "    </tr>\n",
       "    <tr>\n",
       "      <th>2</th>\n",
       "      <td>Z4119225</td>\n",
       "      <td>1301023357249</td>\n",
       "      <td>0</td>\n",
       "      <td>2023-01-30 10:20:00</td>\n",
       "      <td>2023-01-30 10:50:00</td>\n",
       "      <td>Fysisk fremmøde</td>\n",
       "      <td>Planlagt</td>\n",
       "      <td>2 Ambulant</td>\n",
       "      <td>DZ001</td>\n",
       "      <td>ZZ0151</td>\n",
       "      <td>178.269.449</td>\n",
       "      <td>Mand</td>\n",
       "      <td>30.0</td>\n",
       "      <td>6</td>\n",
       "      <td>3</td>\n",
       "      <td>6</td>\n",
       "    </tr>\n",
       "    <tr>\n",
       "      <th>3</th>\n",
       "      <td>Z4127033</td>\n",
       "      <td>1301023443807</td>\n",
       "      <td>0</td>\n",
       "      <td>2023-02-04 12:46:00</td>\n",
       "      <td>2023-02-04 13:16:00</td>\n",
       "      <td>Fysisk fremmøde</td>\n",
       "      <td>Planlagt</td>\n",
       "      <td>2 Ambulant</td>\n",
       "      <td>DZ001</td>\n",
       "      <td>ZZ0151</td>\n",
       "      <td>178.703.583</td>\n",
       "      <td>Mand</td>\n",
       "      <td>30.0</td>\n",
       "      <td>17</td>\n",
       "      <td>11</td>\n",
       "      <td>17</td>\n",
       "    </tr>\n",
       "    <tr>\n",
       "      <th>4</th>\n",
       "      <td>Z4127033</td>\n",
       "      <td>1301023443875</td>\n",
       "      <td>0</td>\n",
       "      <td>2023-02-05 12:22:00</td>\n",
       "      <td>2023-02-05 12:52:00</td>\n",
       "      <td>Fysisk fremmøde</td>\n",
       "      <td>Planlagt</td>\n",
       "      <td>2 Ambulant</td>\n",
       "      <td>DZ001</td>\n",
       "      <td>ZZ0151</td>\n",
       "      <td>178.703.779</td>\n",
       "      <td>Mand</td>\n",
       "      <td>30.0</td>\n",
       "      <td>17</td>\n",
       "      <td>11</td>\n",
       "      <td>17</td>\n",
       "    </tr>\n",
       "  </tbody>\n",
       "</table>\n",
       "</div>"
      ],
      "text/plain": [
       "  patientID  patientContactID  patientAgeAtContactStart    contactStartDate  \\\n",
       "0  Z4115614     1301023075465                         0 2023-01-13 12:32:00   \n",
       "1  Z4115614     1301023121831                         0 2023-01-15 13:27:00   \n",
       "2  Z4119225     1301023357249                         0 2023-01-30 10:20:00   \n",
       "3  Z4127033     1301023443807                         0 2023-02-04 12:46:00   \n",
       "4  Z4127033     1301023443875                         0 2023-02-05 12:22:00   \n",
       "\n",
       "       contactEndDate      contactType appointmentUrgency patientContactType  \\\n",
       "0 2023-01-13 13:02:00  Fysisk fremmøde           Planlagt         2 Ambulant   \n",
       "1 2023-01-15 13:57:00  Fysisk fremmøde           Planlagt         2 Ambulant   \n",
       "2 2023-01-30 10:50:00  Fysisk fremmøde           Planlagt         2 Ambulant   \n",
       "3 2023-02-04 13:16:00  Fysisk fremmøde           Planlagt         2 Ambulant   \n",
       "4 2023-02-05 12:52:00  Fysisk fremmøde           Planlagt         2 Ambulant   \n",
       "\n",
       "  primaryDiagnosisCode procedureCode treatmentContactID patientGender  \\\n",
       "0                DZ001        ZZ0151        176.794.528          Mand   \n",
       "1                DZ001        ZZ0151        177.035.032          Mand   \n",
       "2                DZ001        ZZ0151        178.269.449          Mand   \n",
       "3                DZ001        ZZ0151        178.703.583          Mand   \n",
       "4                DZ001        ZZ0151        178.703.779          Mand   \n",
       "\n",
       "   contactDurationMin  numVisits  numProcedures  numContacts  \n",
       "0                30.0          6              6            6  \n",
       "1                30.0          6              6            6  \n",
       "2                30.0          6              3            6  \n",
       "3                30.0         17             11           17  \n",
       "4                30.0         17             11           17  "
      ]
     },
     "execution_count": 11,
     "metadata": {},
     "output_type": "execute_result"
    }
   ],
   "source": [
    "# deduplicate appointments at this point to ease further calculations\n",
    "df_appointments = df_cleaned.drop_duplicates(subset='patientContactID', keep='first')\n",
    "print('Num of rows/appointments after dedup: ', len(df_appointments))\n",
    "df_appointments.head()"
   ]
  },
  {
   "cell_type": "code",
   "execution_count": 13,
   "metadata": {},
   "outputs": [
    {
     "name": "stderr",
     "output_type": "stream",
     "text": [
      "C:\\Users\\balda\\AppData\\Local\\Temp\\ipykernel_6556\\197153596.py:1: SettingWithCopyWarning: \n",
      "A value is trying to be set on a copy of a slice from a DataFrame.\n",
      "Try using .loc[row_indexer,col_indexer] = value instead\n",
      "\n",
      "See the caveats in the documentation: https://pandas.pydata.org/pandas-docs/stable/user_guide/indexing.html#returning-a-view-versus-a-copy\n",
      "  df_appointments['cumulativeVisitDuration'] = df_appointments.groupby(['patientID'])['contactDurationMin'].transform('sum')\n",
      "C:\\Users\\balda\\AppData\\Local\\Temp\\ipykernel_6556\\197153596.py:2: SettingWithCopyWarning: \n",
      "A value is trying to be set on a copy of a slice from a DataFrame.\n",
      "Try using .loc[row_indexer,col_indexer] = value instead\n",
      "\n",
      "See the caveats in the documentation: https://pandas.pydata.org/pandas-docs/stable/user_guide/indexing.html#returning-a-view-versus-a-copy\n",
      "  df_appointments['Age'] = df_appointments.groupby(['patientID'])['patientAgeAtContactStart'].transform('mean')\n",
      "C:\\Users\\balda\\AppData\\Local\\Temp\\ipykernel_6556\\197153596.py:3: SettingWithCopyWarning: \n",
      "A value is trying to be set on a copy of a slice from a DataFrame.\n",
      "Try using .loc[row_indexer,col_indexer] = value instead\n",
      "\n",
      "See the caveats in the documentation: https://pandas.pydata.org/pandas-docs/stable/user_guide/indexing.html#returning-a-view-versus-a-copy\n",
      "  df_appointments['Gender'] = df_appointments['patientGender'].map({'Kvinde': 0}).fillna(1)\n"
     ]
    }
   ],
   "source": [
    "df_appointments['cumulativeVisitDuration'] = df_appointments.groupby(['patientID'])['contactDurationMin'].transform('sum')\n",
    "df_appointments['Age'] = df_appointments.groupby(['patientID'])['patientAgeAtContactStart'].transform('mean')\n",
    "df_appointments['Gender'] = df_appointments['patientGender'].map({'Kvinde': 0}).fillna(1)\n",
    "\n",
    "# wrapping diagnosis into set for each patient\n",
    "diagnosis_set = df_appointments.groupby('patientID')['primaryDiagnosisCode'].agg(set).reset_index()\n",
    "df_appointments = df_appointments.merge(diagnosis_set, on='patientID', how='left', suffixes=('', '_unique'))\n",
    "df_appointments.rename(columns={'primaryDiagnosisCode_unique': 'Diagnosis'}, inplace=True)\n",
    "\n",
    "# calculate number of contact types per patient\n",
    "df_contact_counts = pd.crosstab(df_appointments['patientID'], df_appointments['contactType'])\n",
    "df_contact_counts.columns = [f'num_{contact_type}' for contact_type in df_contact_counts.columns]\n",
    "df_appointments = df_appointments.merge(df_contact_counts, on='patientID', how='left')\n",
    "\n",
    "# calculate number of contact types per patient\n",
    "df_urgency_counts = pd.crosstab(df_appointments['patientID'], df_appointments['appointmentUrgency'])\n",
    "df_urgency_counts.columns = [f'num_{urgency_type}' for urgency_type in df_urgency_counts.columns]\n",
    "df_appointments = df_appointments.merge(df_urgency_counts, on='patientID', how='left')\n",
    "\n",
    "# calculate number of patient contact types per patient\n",
    "df_patient_contact_type_counts = pd.crosstab(df_appointments['patientID'], df_appointments['patientContactType'])\n",
    "df_patient_contact_type_counts.columns = [f'num_{patient_contact_type}' for patient_contact_type in df_patient_contact_type_counts.columns]\n",
    "df_appointments = df_appointments.merge(df_patient_contact_type_counts, on='patientID', how='left')"
   ]
  },
  {
   "cell_type": "code",
   "execution_count": null,
   "metadata": {},
   "outputs": [],
   "source": [
    "diagnosis_set = df_appointments.groupby('patientID')['primaryDiagnosisCode'].agg(set).reset_index()\n",
    "df_appointments = df_appointments.merge(diagnosis_set, on='patientID', how='left', suffixes=('', '_unique'))\n",
    "df_appointments.rename(columns={'primaryDiagnosisCode_unique': 'Diagnosis'}, inplace=True)"
   ]
  },
  {
   "cell_type": "code",
   "execution_count": 14,
   "metadata": {},
   "outputs": [],
   "source": [
    "rename_columns = {\n",
    "'num_Fysisk fremmøde':'PhysicalAppointments',\n",
    "'num_Udekontakt':'HomeAppointments',\n",
    "'num_Virtuel pt.kt.':'VirtualAppointments',\n",
    "'num_2 Ambulant':'numRegularOutpatient',\n",
    "'num_3 Akut Ambulant':'numAcuteAmbulatory',\n",
    "'num_4 Ambulant Us/Op':'numUnderObservation',\n",
    "'num_Akut':'numAcute',\n",
    "'num_Planlagt':'numPlanned'\n",
    "}\n",
    "\n",
    "df_appointments = df_appointments.rename(columns=rename_columns)"
   ]
  },
  {
   "cell_type": "code",
   "execution_count": 15,
   "metadata": {},
   "outputs": [
    {
     "data": {
      "text/plain": [
       "Index(['patientID', 'patientContactID', 'patientAgeAtContactStart',\n",
       "       'contactStartDate', 'contactEndDate', 'contactType',\n",
       "       'appointmentUrgency', 'patientContactType', 'primaryDiagnosisCode',\n",
       "       'procedureCode', 'treatmentContactID', 'patientGender',\n",
       "       'contactDurationMin', 'numVisits', 'numProcedures', 'numContacts',\n",
       "       'cumulativeVisitDuration', 'Age', 'Gender', 'Diagnosis',\n",
       "       'PhysicalAppointments', 'HomeAppointments', 'VirtualAppointments',\n",
       "       'numAcute', 'numPlanned', 'numRegularOutpatient', 'numAcuteAmbulatory',\n",
       "       'numUnderObservation'],\n",
       "      dtype='object')"
      ]
     },
     "execution_count": 15,
     "metadata": {},
     "output_type": "execute_result"
    }
   ],
   "source": [
    "df_appointments.columns"
   ]
  },
  {
   "cell_type": "code",
   "execution_count": 16,
   "metadata": {},
   "outputs": [],
   "source": [
    "patient_columns = [\n",
    "    'patientID', 'numVisits', 'numProcedures', 'numContacts',\n",
    "    'cumulativeVisitDuration', 'Age', 'Gender', 'Diagnosis',\n",
    "    'PhysicalAppointments', 'HomeAppointments', 'VirtualAppointments',\n",
    "    'numAcute', 'numPlanned', 'numRegularOutpatient', 'numAcuteAmbulatory',\n",
    "    'numUnderObservation'\n",
    "]\n",
    "\n",
    "df_patient = df_appointments[patient_columns]"
   ]
  },
  {
   "cell_type": "code",
   "execution_count": 17,
   "metadata": {},
   "outputs": [
    {
     "name": "stdout",
     "output_type": "stream",
     "text": [
      "Num of rows/appointments after dedup:  331762\n"
     ]
    },
    {
     "data": {
      "text/html": [
       "<div>\n",
       "<style scoped>\n",
       "    .dataframe tbody tr th:only-of-type {\n",
       "        vertical-align: middle;\n",
       "    }\n",
       "\n",
       "    .dataframe tbody tr th {\n",
       "        vertical-align: top;\n",
       "    }\n",
       "\n",
       "    .dataframe thead th {\n",
       "        text-align: right;\n",
       "    }\n",
       "</style>\n",
       "<table border=\"1\" class=\"dataframe\">\n",
       "  <thead>\n",
       "    <tr style=\"text-align: right;\">\n",
       "      <th></th>\n",
       "      <th>patientID</th>\n",
       "      <th>numVisits</th>\n",
       "      <th>numProcedures</th>\n",
       "      <th>numContacts</th>\n",
       "      <th>cumulativeVisitDuration</th>\n",
       "      <th>Age</th>\n",
       "      <th>Gender</th>\n",
       "      <th>Diagnosis</th>\n",
       "      <th>PhysicalAppointments</th>\n",
       "      <th>HomeAppointments</th>\n",
       "      <th>VirtualAppointments</th>\n",
       "      <th>numAcute</th>\n",
       "      <th>numPlanned</th>\n",
       "      <th>numRegularOutpatient</th>\n",
       "      <th>numAcuteAmbulatory</th>\n",
       "      <th>numUnderObservation</th>\n",
       "    </tr>\n",
       "  </thead>\n",
       "  <tbody>\n",
       "    <tr>\n",
       "      <th>0</th>\n",
       "      <td>Z4115614</td>\n",
       "      <td>6</td>\n",
       "      <td>6</td>\n",
       "      <td>6</td>\n",
       "      <td>342.0</td>\n",
       "      <td>0.0</td>\n",
       "      <td>1.0</td>\n",
       "      <td>{DZ001, DQ540, DQ549}</td>\n",
       "      <td>5</td>\n",
       "      <td>0</td>\n",
       "      <td>1</td>\n",
       "      <td>0</td>\n",
       "      <td>6</td>\n",
       "      <td>6</td>\n",
       "      <td>0</td>\n",
       "      <td>0</td>\n",
       "    </tr>\n",
       "    <tr>\n",
       "      <th>2</th>\n",
       "      <td>Z4119225</td>\n",
       "      <td>6</td>\n",
       "      <td>3</td>\n",
       "      <td>6</td>\n",
       "      <td>260.0</td>\n",
       "      <td>0.0</td>\n",
       "      <td>1.0</td>\n",
       "      <td>{DZ001}</td>\n",
       "      <td>6</td>\n",
       "      <td>0</td>\n",
       "      <td>0</td>\n",
       "      <td>0</td>\n",
       "      <td>6</td>\n",
       "      <td>6</td>\n",
       "      <td>0</td>\n",
       "      <td>0</td>\n",
       "    </tr>\n",
       "    <tr>\n",
       "      <th>3</th>\n",
       "      <td>Z4127033</td>\n",
       "      <td>17</td>\n",
       "      <td>11</td>\n",
       "      <td>17</td>\n",
       "      <td>1547.0</td>\n",
       "      <td>0.0</td>\n",
       "      <td>1.0</td>\n",
       "      <td>{DZ001, DZ033A, DP599, DQ753, DK628, DZ135C}</td>\n",
       "      <td>14</td>\n",
       "      <td>1</td>\n",
       "      <td>2</td>\n",
       "      <td>0</td>\n",
       "      <td>17</td>\n",
       "      <td>17</td>\n",
       "      <td>0</td>\n",
       "      <td>0</td>\n",
       "    </tr>\n",
       "    <tr>\n",
       "      <th>5</th>\n",
       "      <td>Z4139519</td>\n",
       "      <td>3</td>\n",
       "      <td>3</td>\n",
       "      <td>3</td>\n",
       "      <td>120.0</td>\n",
       "      <td>0.0</td>\n",
       "      <td>1.0</td>\n",
       "      <td>{DZ001}</td>\n",
       "      <td>3</td>\n",
       "      <td>0</td>\n",
       "      <td>0</td>\n",
       "      <td>0</td>\n",
       "      <td>3</td>\n",
       "      <td>3</td>\n",
       "      <td>0</td>\n",
       "      <td>0</td>\n",
       "    </tr>\n",
       "    <tr>\n",
       "      <th>7</th>\n",
       "      <td>Z4146746</td>\n",
       "      <td>4</td>\n",
       "      <td>3</td>\n",
       "      <td>4</td>\n",
       "      <td>180.0</td>\n",
       "      <td>0.0</td>\n",
       "      <td>1.0</td>\n",
       "      <td>{DZ001}</td>\n",
       "      <td>3</td>\n",
       "      <td>1</td>\n",
       "      <td>0</td>\n",
       "      <td>0</td>\n",
       "      <td>4</td>\n",
       "      <td>4</td>\n",
       "      <td>0</td>\n",
       "      <td>0</td>\n",
       "    </tr>\n",
       "  </tbody>\n",
       "</table>\n",
       "</div>"
      ],
      "text/plain": [
       "  patientID  numVisits  numProcedures  numContacts  cumulativeVisitDuration  \\\n",
       "0  Z4115614          6              6            6                    342.0   \n",
       "2  Z4119225          6              3            6                    260.0   \n",
       "3  Z4127033         17             11           17                   1547.0   \n",
       "5  Z4139519          3              3            3                    120.0   \n",
       "7  Z4146746          4              3            4                    180.0   \n",
       "\n",
       "   Age  Gender                                     Diagnosis  \\\n",
       "0  0.0     1.0                         {DZ001, DQ540, DQ549}   \n",
       "2  0.0     1.0                                       {DZ001}   \n",
       "3  0.0     1.0  {DZ001, DZ033A, DP599, DQ753, DK628, DZ135C}   \n",
       "5  0.0     1.0                                       {DZ001}   \n",
       "7  0.0     1.0                                       {DZ001}   \n",
       "\n",
       "   PhysicalAppointments  HomeAppointments  VirtualAppointments  numAcute  \\\n",
       "0                     5                 0                    1         0   \n",
       "2                     6                 0                    0         0   \n",
       "3                    14                 1                    2         0   \n",
       "5                     3                 0                    0         0   \n",
       "7                     3                 1                    0         0   \n",
       "\n",
       "   numPlanned  numRegularOutpatient  numAcuteAmbulatory  numUnderObservation  \n",
       "0           6                     6                   0                    0  \n",
       "2           6                     6                   0                    0  \n",
       "3          17                    17                   0                    0  \n",
       "5           3                     3                   0                    0  \n",
       "7           4                     4                   0                    0  "
      ]
     },
     "execution_count": 17,
     "metadata": {},
     "output_type": "execute_result"
    }
   ],
   "source": [
    "df_patient = df_patient.drop_duplicates(subset='patientID', keep='first')\n",
    "print('Num of rows/appointments after dedup: ', len(df_patient))\n",
    "df_patient.head()"
   ]
  },
  {
   "cell_type": "code",
   "execution_count": null,
   "metadata": {},
   "outputs": [],
   "source": [
    "# save to csv\n",
    "df_patient.to_csv('data/patient_dataframe.csv', index=False)"
   ]
  },
  {
   "cell_type": "code",
   "execution_count": null,
   "metadata": {},
   "outputs": [],
   "source": []
  }
 ],
 "metadata": {
  "kernelspec": {
   "display_name": "base",
   "language": "python",
   "name": "python3"
  },
  "language_info": {
   "codemirror_mode": {
    "name": "ipython",
    "version": 3
   },
   "file_extension": ".py",
   "mimetype": "text/x-python",
   "name": "python",
   "nbconvert_exporter": "python",
   "pygments_lexer": "ipython3",
   "version": "3.12.7"
  }
 },
 "nbformat": 4,
 "nbformat_minor": 2
}
